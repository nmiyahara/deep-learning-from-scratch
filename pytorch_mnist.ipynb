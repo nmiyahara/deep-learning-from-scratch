{
 "cells": [
  {
   "cell_type": "code",
   "execution_count": 1,
   "metadata": {},
   "outputs": [],
   "source": [
    "import sys, os\n",
    "sys.path.append(os.pardir)\n",
    "from dataset.mnist import load_mnist\n",
    "import pickle"
   ]
  },
  {
   "cell_type": "code",
   "execution_count": 12,
   "metadata": {},
   "outputs": [
    {
     "name": "stdout",
     "output_type": "stream",
     "text": [
      "9\n"
     ]
    }
   ],
   "source": [
    "def img_show(img):\n",
    "    pil_img = Image.fromarray(np.uint8(img))\n",
    "    pil_img.show()\n",
    "\n",
    "(x_train, t_train), (x_test, t_test) = \\\n",
    "    load_mnist(flatten=True, normalize=False)\n",
    "    \n",
    "img = x_train[22]\n",
    "label = t_train[22]\n",
    "print(label)"
   ]
  },
  {
   "cell_type": "code",
   "execution_count": 13,
   "metadata": {},
   "outputs": [],
   "source": [
    "from PIL import Image\n",
    "import numpy as np"
   ]
  },
  {
   "cell_type": "code",
   "execution_count": 14,
   "metadata": {},
   "outputs": [
    {
     "name": "stdout",
     "output_type": "stream",
     "text": [
      "この画像データのラベルは9です\n"
     ]
    },
    {
     "data": {
      "image/png": "[encoded data removed]",
      "text/plain": [
       "<Figure size 432x288 with 1 Axes>"
      ]
     },
     "metadata": {},
     "output_type": "display_data"
    }
   ],
   "source": [
    "import matplotlib.pyplot as plt\n",
    "% matplotlib inline\n",
    " \n",
    "plt.imshow(img.reshape(28, 28), cmap='gray')\n",
    "print(\"この画像データのラベルは{:.0f}です\".format(label))"
   ]
  },
  {
   "cell_type": "code",
   "execution_count": 15,
   "metadata": {},
   "outputs": [],
   "source": [
    "# 2. DataLoderの作成\n",
    " \n",
    "import torch\n",
    "from torch.utils.data import TensorDataset, DataLoader"
   ]
  },
  {
   "cell_type": "code",
   "execution_count": 32,
   "metadata": {},
   "outputs": [],
   "source": [
    "# 2.2 データをPyTorchのTensorに変換\n",
    "X_train = torch.Tensor(x_train)\n",
    "X_test = torch.Tensor(x_test)\n",
    "y_train = torch.LongTensor(t_train)\n",
    "y_test = torch.LongTensor(t_test)"
   ]
  },
  {
   "cell_type": "code",
   "execution_count": 33,
   "metadata": {},
   "outputs": [],
   "source": [
    "# 2.3 データとラベルをセットにしたDatasetを作成\n",
    "ds_train = TensorDataset(X_train, y_train)\n",
    "ds_test = TensorDataset(X_test, y_test)"
   ]
  },
  {
   "cell_type": "code",
   "execution_count": 34,
   "metadata": {},
   "outputs": [],
   "source": [
    "# 2.4 データセットのミニバッチサイズを指定した、Dataloaderを作成\n",
    "# Chainerのiterators.SerialIteratorと似ている\n",
    "loader_train = DataLoader(ds_train, batch_size=64, shuffle=True)\n",
    "loader_test = DataLoader(ds_test, batch_size=64, shuffle=False)"
   ]
  },
  {
   "cell_type": "code",
   "execution_count": 35,
   "metadata": {},
   "outputs": [
    {
     "name": "stdout",
     "output_type": "stream",
     "text": [
      "Sequential(\n",
      "  (fc1): Linear(in_features=784, out_features=100, bias=True)\n",
      "  (relu1): ReLU()\n",
      "  (fc2): Linear(in_features=100, out_features=100, bias=True)\n",
      "  (relu2): ReLU()\n",
      "  (fc3): Linear(in_features=100, out_features=10, bias=True)\n",
      ")\n"
     ]
    }
   ],
   "source": [
    "# 3. ネットワークの構築\n",
    "# Keras風の書き方 Define and Run\n",
    " \n",
    "from torch import nn\n",
    " \n",
    "model = nn.Sequential()\n",
    "model.add_module('fc1', nn.Linear(28*28, 100))\n",
    "model.add_module('relu1', nn.ReLU())\n",
    "model.add_module('fc2', nn.Linear(100, 100))\n",
    "model.add_module('relu2', nn.ReLU())\n",
    "model.add_module('fc3', nn.Linear(100, 10))\n",
    " \n",
    "print(model)"
   ]
  },
  {
   "cell_type": "code",
   "execution_count": 36,
   "metadata": {},
   "outputs": [],
   "source": [
    "# 4. 誤差関数と最適化手法の設定\n",
    " \n",
    "from torch import optim\n",
    " \n",
    "# 誤差関数の設定\n",
    "loss_fn = nn.CrossEntropyLoss()  # 変数名にはcriterionも使われる\n",
    " \n",
    "# 重みを学習する際の最適化手法の選択\n",
    "optimizer = optim.Adam(model.parameters(), lr=0.01)"
   ]
  },
  {
   "cell_type": "code",
   "execution_count": 37,
   "metadata": {},
   "outputs": [],
   "source": [
    "# 5. 学習と推論の設定\n",
    "# 5-1. 学習1回でやることを定義します\n",
    "# Chainerのtraining.Trainer()に対応するものはない\n",
    " \n",
    "from torch.autograd import Variable\n",
    " \n",
    " \n",
    "def train(epoch):\n",
    "    model.train()  # ネットワークを学習モードに切り替える\n",
    " \n",
    "    # データローダーから1ミニバッチずつ取り出して計算する\n",
    "    for data, target in loader_train:\n",
    "        data, target = Variable(data), Variable(target)  # 微分可能に変換\n",
    "        optimizer.zero_grad()  # 一度計算された勾配結果を0にリセット\n",
    " \n",
    "        output = model(data)  # 入力dataをinputし、出力を求める\n",
    "        loss = loss_fn(output, target)  # 出力と訓練データの正解との誤差を求める\n",
    "        loss.backward()  # 誤差のバックプロパゲーションを求める\n",
    "        optimizer.step()  # バックプロパゲーションの値で重みを更新する\n",
    " \n",
    "    print(\"epoch{}：終了\\n\".format(epoch))"
   ]
  },
  {
   "cell_type": "code",
   "execution_count": 38,
   "metadata": {},
   "outputs": [],
   "source": [
    "# 5. 学習と推論の設定\n",
    "# 5-2. 推論1回でやることを定義します\n",
    "# Chainerのtrainer.extend(extensions.Evaluator())に対応するものはない\n",
    " \n",
    " \n",
    "def test():\n",
    "    model.eval()  # ネットワークを推論モードに切り替える\n",
    "    correct = 0\n",
    " \n",
    "    # データローダーから1ミニバッチずつ取り出して計算する\n",
    "    for data, target in loader_test:\n",
    "        data, target = Variable(data), Variable(target)  # 微分可能に変換\n",
    "        output = model(data)  # 入力dataをinputし、出力を求める\n",
    " \n",
    "        # 推論する\n",
    "        pred = output.data.max(1, keepdim=True)[1]  # 出力ラベルを求める\n",
    "        correct += pred.eq(target.data.view_as(pred)).sum()  # 正解と一緒だったらカウントアップ\n",
    " \n",
    "    # 正解率を出力\n",
    "    data_num = len(loader_test.dataset)  # データの総数\n",
    "    print('\\nテストデータの正解率: {}/{} ({:.0f}%)\\n'.format(correct,\n",
    "                                                   data_num, 100. * correct / data_num))"
   ]
  },
  {
   "cell_type": "code",
   "execution_count": 39,
   "metadata": {},
   "outputs": [
    {
     "name": "stdout",
     "output_type": "stream",
     "text": [
      "\n",
      "テストデータの正解率: 1495/10000 (14%)\n",
      "\n"
     ]
    }
   ],
   "source": [
    "# 学習なしにテストデータで推論してみよう\n",
    "test()"
   ]
  },
  {
   "cell_type": "code",
   "execution_count": 40,
   "metadata": {},
   "outputs": [
    {
     "name": "stdout",
     "output_type": "stream",
     "text": [
      "epoch0：終了\n",
      "\n",
      "epoch1：終了\n",
      "\n",
      "epoch2：終了\n",
      "\n",
      "\n",
      "テストデータの正解率: 8972/10000 (89%)\n",
      "\n"
     ]
    }
   ],
   "source": [
    "# 6. 学習と推論の実行\n",
    "for epoch in range(3):\n",
    "    train(epoch)\n",
    " \n",
    "test()"
   ]
  },
  {
   "cell_type": "code",
   "execution_count": 28,
   "metadata": {},
   "outputs": [
    {
     "name": "stdout",
     "output_type": "stream",
     "text": [
      "予測結果はtensor([ 7])\n",
      "この画像データの正解ラベルは1です\n"
     ]
    },
    {
     "data": {
      "image/png": "[encoded data removed]",
      "text/plain": [
       "<Figure size 432x288 with 1 Axes>"
      ]
     },
     "metadata": {},
     "output_type": "display_data"
    }
   ],
   "source": [
    "# 例えば2018番目の画像データを推論してみる\n",
    " \n",
    "index = 2018\n",
    " \n",
    "model.eval()  # ネットワークを推論モードに切り替える\n",
    "data = Variable(X_test[index])\n",
    "output = model(data)  # 入力dataをinputし、出力を求める\n",
    " \n",
    "pred = output.data.max(0, keepdim=True)[1]  # 出力ラベルを求める\n",
    " \n",
    "print(\"予測結果は{}\".format(pred))\n",
    " \n",
    " \n",
    "X_test_show = (X_test[index]).numpy()\n",
    "plt.imshow(X_test_show.reshape(28, 28), cmap='gray')\n",
    "print(\"この画像データの正解ラベルは{:.0f}です\".format(y_test[index]))"
   ]
  },
  {
   "cell_type": "code",
   "execution_count": null,
   "metadata": {},
   "outputs": [],
   "source": []
  }
 ],
 "metadata": {
  "kernelspec": {
   "display_name": "Python [default]",
   "language": "python",
   "name": "python3"
  },
  "language_info": {
   "codemirror_mode": {
    "name": "ipython",
    "version": 3
   },
   "file_extension": ".py",
   "mimetype": "text/x-python",
   "name": "python",
   "nbconvert_exporter": "python",
   "pygments_lexer": "ipython3",
   "version": "3.5.5"
  }
 },
 "nbformat": 4,
 "nbformat_minor": 2
}
